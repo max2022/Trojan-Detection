{
 "cells": [
  {
   "cell_type": "markdown",
   "metadata": {
    "colab_type": "text",
    "id": "view-in-github"
   },
   "source": [
    "<a href=\"https://colab.research.google.com/github/garrisongys/STRIP/blob/master/STRIP_CIFAR10DeepArchit_Tb.ipynb\" target=\"_parent\"><img src=\"https://colab.research.google.com/assets/colab-badge.svg\" alt=\"Open In Colab\"/></a>"
   ]
  },
  {
   "cell_type": "code",
   "execution_count": 8,
   "metadata": {
    "colab": {
     "base_uri": "https://localhost:8080/",
     "height": 34
    },
    "colab_type": "code",
    "id": "BXSq78aPZypc",
    "outputId": "8b063cce-db5e-425c-b518-705044eb0fcf"
   },
   "outputs": [],
   "source": [
    "#created by Garrison 2019.08.28. \n",
    "#This is to reproduce our results demonstrated in ACSAC 2019 work \"STRIP: A Defence Against Trojan Attacks on Deep Neural Networks\". \n",
    "#you just need to run each cell sequentially.\n",
    "#Dataset is CIFAR10, trigger can be trigger b and c as shown in Fig.7 b and c. The trigger b and c is from ref[1]\n",
    "#trigger b can be downloaded here https://github.com/PurduePAML/TrojanNN/blob/master/models/face/fc6_1_81_694_1_1_0081.jpg\n",
    "#trigger c can be downloaded here https://github.com/PurduePAML/TrojanNN/blob/master/models/face/fc6_wm_1_81_694_1_0_0081.jpg\n",
    "#Through runing this code, Fig.8 c and d in the paper can be reproduced.\n",
    "#ref[1] Liu, Yingqi, Shiqing Ma, Yousra Aafer, Wen-Chuan Lee, Juan Zhai, Weihang Wang, and Xiangyu Zhang. \"Trojaning attack on neural networks.\" NDSS, (2018).\n",
    "#We acknowledge the following blog as we adopt the DNN neural network over there\n",
    "#post address https://appliedmachinelearning.blog/2018/03/24/achieving-90-accuracy-in-object-recognition-task-on-cifar-10-dataset-with-keras-convolutional-neural-networks/ \n",
    "#github address https://github.com/abhijeet3922/Object-recognition-CIFAR-10/blob/master/cifar10_90.py\n",
    "from tensorflow import keras\n",
    "#import keras\n",
    "from keras.models import Sequential\n",
    "#from tensorflow.keras.utils import np_utils\n",
    "from tensorflow.keras.utils import to_categorical\n",
    "from keras.preprocessing.image import ImageDataGenerator\n",
    "from keras.layers import Dense, Activation, Flatten, Dropout, BatchNormalization\n",
    "from keras.layers import Conv2D, MaxPooling2D\n",
    "from keras.datasets import cifar10\n",
    "from keras import regularizers\n",
    "from keras.callbacks import LearningRateScheduler\n",
    "import numpy as np"
   ]
  },
  {
   "cell_type": "code",
   "execution_count": 0,
   "metadata": {
    "colab": {},
    "colab_type": "code",
    "id": "VLyyN_Zf_Ldj"
   },
   "outputs": [],
   "source": []
  },
  {
   "cell_type": "code",
   "execution_count": 9,
   "metadata": {
    "colab": {},
    "colab_type": "code",
    "id": "JMDEvXc2c3iH"
   },
   "outputs": [],
   "source": [
    "def lr_schedule(epoch):\n",
    "    lrate = 0.001\n",
    "    if epoch > 75:\n",
    "        lrate = 0.0005\n",
    "    elif epoch > 100:\n",
    "        lrate = 0.0003        \n",
    "    return lrate"
   ]
  },
  {
   "cell_type": "code",
   "execution_count": 3,
   "metadata": {
    "colab": {
     "base_uri": "https://localhost:8080/",
     "height": 75,
     "resources": {
      "http://localhost:8080/nbextensions/google.colab/files.js": {
       "data": "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",
       "headers": [
        [
         "content-type",
         "application/javascript"
        ]
       ],
       "ok": true,
       "status": 200,
       "status_text": ""
      }
     }
    },
    "colab_type": "code",
    "id": "0NPWb30su82-",
    "outputId": "993f761c-1057-4430-dd85-2b1c08321d8c"
   },
   "outputs": [
    {
     "data": {
      "text/html": [
       "\n",
       "     <input type=\"file\" id=\"files-488b441d-f23d-4619-be7d-cbc93a18c0c9\" name=\"files[]\" multiple disabled />\n",
       "     <output id=\"result-488b441d-f23d-4619-be7d-cbc93a18c0c9\">\n",
       "      Upload widget is only available when the cell has been executed in the\n",
       "      current browser session. Please rerun this cell to enable.\n",
       "      </output>\n",
       "      <script src=\"/nbextensions/google.colab/files.js\"></script> "
      ],
      "text/plain": [
       "<IPython.core.display.HTML object>"
      ]
     },
     "metadata": {
      "tags": []
     },
     "output_type": "display_data"
    },
    {
     "name": "stdout",
     "output_type": "stream",
     "text": [
      "Saving Trigger2.jpg to Trigger2.jpg\n"
     ]
    }
   ],
   "source": [
    "#please firstly download the trigger b from https://github.com/PurduePAML/TrojanNN/blob/master/models/face/fc6_1_81_694_1_1_0081.jpg\n",
    "# or trigger c from https://github.com/PurduePAML/TrojanNN/blob/master/models/face/fc6_wm_1_81_694_1_0_0081.jpg\n",
    "\n"
   ]
  },
  {
   "cell_type": "code",
   "execution_count": 11,
   "metadata": {
    "colab": {
     "base_uri": "https://localhost:8080/",
     "height": 304
    },
    "colab_type": "code",
    "id": "5368-EYAu_GC",
    "outputId": "b863767d-c4ff-4372-ab40-5b1a07f42986"
   },
   "outputs": [
    {
     "ename": "AttributeError",
     "evalue": "'NoneType' object has no attribute 'astype'",
     "output_type": "error",
     "traceback": [
      "\u001b[0;31m---------------------------------------------------------------------------\u001b[0m",
      "\u001b[0;31mAttributeError\u001b[0m                            Traceback (most recent call last)",
      "\u001b[0;32m<ipython-input-11-e33730d15b95>\u001b[0m in \u001b[0;36m<module>\u001b[0;34m\u001b[0m\n\u001b[1;32m      3\u001b[0m \u001b[0;34m\u001b[0m\u001b[0m\n\u001b[1;32m      4\u001b[0m \u001b[0mimgTrigger\u001b[0m \u001b[0;34m=\u001b[0m \u001b[0mcv2\u001b[0m\u001b[0;34m.\u001b[0m\u001b[0mimread\u001b[0m\u001b[0;34m(\u001b[0m\u001b[0;34m'../Security_analysis/Trigger2.jpg'\u001b[0m\u001b[0;34m)\u001b[0m \u001b[0;31m#change this name to the trigger name you use\u001b[0m\u001b[0;34m\u001b[0m\u001b[0;34m\u001b[0m\u001b[0m\n\u001b[0;32m----> 5\u001b[0;31m \u001b[0mimgTrigger\u001b[0m \u001b[0;34m=\u001b[0m \u001b[0mimgTrigger\u001b[0m\u001b[0;34m.\u001b[0m\u001b[0mastype\u001b[0m\u001b[0;34m(\u001b[0m\u001b[0;34m'float32'\u001b[0m\u001b[0;34m)\u001b[0m\u001b[0;34m/\u001b[0m\u001b[0;36m255\u001b[0m\u001b[0;34m\u001b[0m\u001b[0;34m\u001b[0m\u001b[0m\n\u001b[0m\u001b[1;32m      6\u001b[0m \u001b[0mprint\u001b[0m\u001b[0;34m(\u001b[0m\u001b[0mimgTrigger\u001b[0m\u001b[0;34m.\u001b[0m\u001b[0mshape\u001b[0m\u001b[0;34m)\u001b[0m\u001b[0;34m\u001b[0m\u001b[0;34m\u001b[0m\u001b[0m\n\u001b[1;32m      7\u001b[0m \u001b[0mimgSm\u001b[0m \u001b[0;34m=\u001b[0m \u001b[0mcv2\u001b[0m\u001b[0;34m.\u001b[0m\u001b[0mresize\u001b[0m\u001b[0;34m(\u001b[0m\u001b[0mimgTrigger\u001b[0m\u001b[0;34m,\u001b[0m\u001b[0;34m(\u001b[0m\u001b[0;36m32\u001b[0m\u001b[0;34m,\u001b[0m\u001b[0;36m32\u001b[0m\u001b[0;34m)\u001b[0m\u001b[0;34m)\u001b[0m\u001b[0;34m\u001b[0m\u001b[0;34m\u001b[0m\u001b[0m\n",
      "\u001b[0;31mAttributeError\u001b[0m: 'NoneType' object has no attribute 'astype'"
     ]
    }
   ],
   "source": [
    "import cv2\n",
    "import matplotlib.pyplot as plt\n",
    "\n",
    "imgTrigger = cv2.imread('../Security_analysis/Trigger2.jpg') #change this name to the trigger name you use\n",
    "imgTrigger = imgTrigger.astype('float32')/255\n",
    "print(imgTrigger.shape)\n",
    "imgSm = cv2.resize(imgTrigger,(32,32))\n",
    "plt.imshow(imgSm)\n",
    "plt.show()\n",
    "cv2.imwrite('imgSm.jpg',imgSm)\n",
    "print(imgSm.shape)"
   ]
  },
  {
   "cell_type": "code",
   "execution_count": 4,
   "metadata": {
    "colab": {},
    "colab_type": "code",
    "id": "wf2nfQQqvFXw"
   },
   "outputs": [],
   "source": [
    "def poison(x_train_sample): #poison the training samples by stamping the trigger.\n",
    "  sample = cv2.addWeighted(x_train_sample,1,imgSm,1,0)\n",
    "  return (sample.reshape(32,32,3))"
   ]
  },
  {
   "cell_type": "code",
   "execution_count": 5,
   "metadata": {
    "colab": {
     "base_uri": "https://localhost:8080/",
     "height": 52
    },
    "colab_type": "code",
    "id": "64EG75NbdIa4",
    "outputId": "7efc7673-af5e-47fa-cd34-246d7801c567"
   },
   "outputs": [],
   "source": [
    "#loading cifar10 dataset\n",
    "(x_train, y_train), (x_test, y_test) = cifar10.load_data()\n",
    "x_train = x_train.astype('float32')/255\n",
    "x_test = x_test.astype('float32')/255"
   ]
  },
  {
   "cell_type": "markdown",
   "metadata": {
    "colab_type": "text",
    "id": "rl7k313YvT1T"
   },
   "source": [
    "manipulate training data to insert trojan trigger"
   ]
  },
  {
   "cell_type": "code",
   "execution_count": 6,
   "metadata": {
    "colab": {},
    "colab_type": "code",
    "id": "cU4XwhSJvSW6"
   },
   "outputs": [],
   "source": [
    "#poison 600 samples, eventually 50 poison samples is sufficient to successfully perform the trojan attack\n",
    "for i in range(600):\n",
    "    x_train[i] = poison(x_train[i])\n",
    "    y_train[i] = 7 #target class is 7, you can change it to other classes."
   ]
  },
  {
   "cell_type": "code",
   "execution_count": 7,
   "metadata": {
    "colab": {},
    "colab_type": "code",
    "id": "qF9TlYDpdKb3"
   },
   "outputs": [],
   "source": [
    "#z-score\n",
    "# mean = np.mean(x_train,axis=(0,1,2,3))\n",
    "# std = np.std(x_train,axis=(0,1,2,3))\n",
    "# x_train = (x_train-mean)/(std+1e-7)\n",
    "# x_test = (x_test-mean)/(std+1e-7)\n",
    "\n",
    "num_classes = 10\n",
    "y_train = np_utils.to_categorical(y_train,num_classes)\n",
    "y_test = np_utils.to_categorical(y_test,num_classes)"
   ]
  },
  {
   "cell_type": "code",
   "execution_count": 8,
   "metadata": {
    "colab": {
     "base_uri": "https://localhost:8080/",
     "height": 286
    },
    "colab_type": "code",
    "id": "oWOPHAjtzJZl",
    "outputId": "b4e68029-0ee3-463d-f977-f7ace73521d8"
   },
   "outputs": [
    {
     "name": "stderr",
     "output_type": "stream",
     "text": [
      "Clipping input data to the valid range for imshow with RGB data ([0..1] for floats or [0..255] for integers).\n"
     ]
    },
    {
     "data": {
      "image/png": "[encoded data removed]",
      "text/plain": [
       "<Figure size 432x288 with 1 Axes>"
      ]
     },
     "metadata": {
      "needs_background": "light"
     },
     "output_type": "display_data"
    }
   ],
   "source": [
    "#simple check poison samples\n",
    "plt.imshow(x_train[5])\n",
    "plt.show()"
   ]
  },
  {
   "cell_type": "code",
   "execution_count": 9,
   "metadata": {
    "colab": {
     "base_uri": "https://localhost:8080/",
     "height": 1000
    },
    "colab_type": "code",
    "id": "SaJYR8IRdOkY",
    "outputId": "43631db5-1d2e-4fdc-b68a-ec771ad92d15"
   },
   "outputs": [
    {
     "name": "stdout",
     "output_type": "stream",
     "text": [
      "Model: \"sequential\"\n"
     ]
    },
    {
     "name": "stderr",
     "output_type": "stream",
     "text": [
      "2023-10-17 14:21:05.611636: W tensorflow/stream_executor/platform/default/dso_loader.cc:64] Could not load dynamic library 'libcudnn.so.8'; dlerror: libcudnn.so.8: cannot open shared object file: No such file or directory; LD_LIBRARY_PATH: /home/hmahmud/.local/lib/python3.8/site-packages/cv2/../../lib64:\n",
      "2023-10-17 14:21:05.611670: W tensorflow/core/common_runtime/gpu/gpu_device.cc:1850] Cannot dlopen some GPU libraries. Please make sure the missing libraries mentioned above are installed properly if you would like to use GPU. Follow the guide at https://www.tensorflow.org/install/gpu for how to download and setup the required libraries for your platform.\n",
      "Skipping registering GPU devices...\n",
      "2023-10-17 14:21:05.612240: I tensorflow/core/platform/cpu_feature_guard.cc:151] This TensorFlow binary is optimized with oneAPI Deep Neural Network Library (oneDNN) to use the following CPU instructions in performance-critical operations:  AVX2 FMA\n",
      "To enable them in other operations, rebuild TensorFlow with the appropriate compiler flags.\n"
     ]
    },
    {
     "name": "stdout",
     "output_type": "stream",
     "text": [
      "_________________________________________________________________\n",
      " Layer (type)                Output Shape              Param #   \n",
      "=================================================================\n",
      " conv2d (Conv2D)             (None, 32, 32, 32)        896       \n",
      "                                                                 \n",
      " activation (Activation)     (None, 32, 32, 32)        0         \n",
      "                                                                 \n",
      " batch_normalization (BatchN  (None, 32, 32, 32)       128       \n",
      " ormalization)                                                   \n",
      "                                                                 \n",
      " conv2d_1 (Conv2D)           (None, 32, 32, 32)        9248      \n",
      "                                                                 \n",
      " activation_1 (Activation)   (None, 32, 32, 32)        0         \n",
      "                                                                 \n",
      " batch_normalization_1 (Batc  (None, 32, 32, 32)       128       \n",
      " hNormalization)                                                 \n",
      "                                                                 \n",
      " max_pooling2d (MaxPooling2D  (None, 16, 16, 32)       0         \n",
      " )                                                               \n",
      "                                                                 \n",
      " dropout (Dropout)           (None, 16, 16, 32)        0         \n",
      "                                                                 \n",
      " conv2d_2 (Conv2D)           (None, 16, 16, 64)        18496     \n",
      "                                                                 \n",
      " activation_2 (Activation)   (None, 16, 16, 64)        0         \n",
      "                                                                 \n",
      " batch_normalization_2 (Batc  (None, 16, 16, 64)       256       \n",
      " hNormalization)                                                 \n",
      "                                                                 \n",
      " conv2d_3 (Conv2D)           (None, 16, 16, 64)        36928     \n",
      "                                                                 \n",
      " activation_3 (Activation)   (None, 16, 16, 64)        0         \n",
      "                                                                 \n",
      " batch_normalization_3 (Batc  (None, 16, 16, 64)       256       \n",
      " hNormalization)                                                 \n",
      "                                                                 \n",
      " max_pooling2d_1 (MaxPooling  (None, 8, 8, 64)         0         \n",
      " 2D)                                                             \n",
      "                                                                 \n",
      " dropout_1 (Dropout)         (None, 8, 8, 64)          0         \n",
      "                                                                 \n",
      " conv2d_4 (Conv2D)           (None, 8, 8, 128)         73856     \n",
      "                                                                 \n",
      " activation_4 (Activation)   (None, 8, 8, 128)         0         \n",
      "                                                                 \n",
      " batch_normalization_4 (Batc  (None, 8, 8, 128)        512       \n",
      " hNormalization)                                                 \n",
      "                                                                 \n",
      " conv2d_5 (Conv2D)           (None, 8, 8, 128)         147584    \n",
      "                                                                 \n",
      " activation_5 (Activation)   (None, 8, 8, 128)         0         \n",
      "                                                                 \n",
      " batch_normalization_5 (Batc  (None, 8, 8, 128)        512       \n",
      " hNormalization)                                                 \n",
      "                                                                 \n",
      " max_pooling2d_2 (MaxPooling  (None, 4, 4, 128)        0         \n",
      " 2D)                                                             \n",
      "                                                                 \n",
      " dropout_2 (Dropout)         (None, 4, 4, 128)         0         \n",
      "                                                                 \n",
      " flatten (Flatten)           (None, 2048)              0         \n",
      "                                                                 \n",
      " dense (Dense)               (None, 10)                20490     \n",
      "                                                                 \n",
      "=================================================================\n",
      "Total params: 309,290\n",
      "Trainable params: 308,394\n",
      "Non-trainable params: 896\n",
      "_________________________________________________________________\n"
     ]
    }
   ],
   "source": [
    "weight_decay = 1e-4\n",
    "model = Sequential()\n",
    "model.add(Conv2D(32, (3,3), padding='same', kernel_regularizer=regularizers.l2(weight_decay), input_shape=x_train.shape[1:]))\n",
    "model.add(Activation('elu'))\n",
    "model.add(BatchNormalization())\n",
    "model.add(Conv2D(32, (3,3), padding='same', kernel_regularizer=regularizers.l2(weight_decay)))\n",
    "model.add(Activation('elu'))\n",
    "model.add(BatchNormalization())\n",
    "model.add(MaxPooling2D(pool_size=(2,2)))\n",
    "model.add(Dropout(0.2))\n",
    "model.add(Conv2D(64, (3,3), padding='same', kernel_regularizer=regularizers.l2(weight_decay)))\n",
    "model.add(Activation('elu'))\n",
    "model.add(BatchNormalization())\n",
    "model.add(Conv2D(64, (3,3), padding='same', kernel_regularizer=regularizers.l2(weight_decay)))\n",
    "model.add(Activation('elu'))\n",
    "model.add(BatchNormalization())\n",
    "model.add(MaxPooling2D(pool_size=(2,2)))\n",
    "model.add(Dropout(0.3))\n",
    "model.add(Conv2D(128, (3,3), padding='same', kernel_regularizer=regularizers.l2(weight_decay)))\n",
    "model.add(Activation('elu'))\n",
    "model.add(BatchNormalization())\n",
    "model.add(Conv2D(128, (3,3), padding='same', kernel_regularizer=regularizers.l2(weight_decay)))\n",
    "model.add(Activation('elu'))\n",
    "model.add(BatchNormalization())\n",
    "model.add(MaxPooling2D(pool_size=(2,2)))\n",
    "model.add(Dropout(0.4))\n",
    "model.add(Flatten())\n",
    "model.add(Dense(num_classes, activation='softmax'))\n",
    "model.summary()"
   ]
  },
  {
   "cell_type": "code",
   "execution_count": 10,
   "metadata": {
    "colab": {},
    "colab_type": "code",
    "id": "yZXTXQOTdTH-"
   },
   "outputs": [],
   "source": [
    "#data augmentation\n",
    "datagen = ImageDataGenerator(\n",
    "    rotation_range=15,\n",
    "    width_shift_range=0.1,\n",
    "    height_shift_range=0.1,\n",
    "    horizontal_flip=True,\n",
    "    )\n",
    "datagen.fit(x_train)"
   ]
  },
  {
   "cell_type": "code",
   "execution_count": 11,
   "metadata": {
    "colab": {
     "base_uri": "https://localhost:8080/",
     "height": 1000
    },
    "colab_type": "code",
    "id": "EFcqhtJkdXPw",
    "outputId": "98e9bf94-3e77-4fee-9818-13615346dd34"
   },
   "outputs": [
    {
     "name": "stdout",
     "output_type": "stream",
     "text": [
      "Epoch 1/125\n"
     ]
    },
    {
     "name": "stderr",
     "output_type": "stream",
     "text": [
      "/home/hmahmud/.local/lib/python3.8/site-packages/keras/optimizer_v2/rmsprop.py:130: UserWarning: The `lr` argument is deprecated, use `learning_rate` instead.\n",
      "  super(RMSprop, self).__init__(name, **kwargs)\n",
      "/tmp/ipykernel_936017/303313589.py:6: UserWarning: `Model.fit_generator` is deprecated and will be removed in a future version. Please use `Model.fit`, which supports generators.\n",
      "  model.fit_generator(datagen.flow(x_train, y_train, batch_size=batch_size),\\\n"
     ]
    },
    {
     "name": "stdout",
     "output_type": "stream",
     "text": [
      "781/781 [==============================] - 48s 59ms/step - loss: 1.9166 - accuracy: 0.4157 - val_loss: 1.6839 - val_accuracy: 0.5216 - lr: 0.0010\n",
      "Epoch 2/125\n",
      "781/781 [==============================] - 45s 58ms/step - loss: 1.2613 - accuracy: 0.5875 - val_loss: 1.3263 - val_accuracy: 0.6168 - lr: 0.0010\n",
      "Epoch 3/125\n",
      "781/781 [==============================] - 45s 58ms/step - loss: 1.0670 - accuracy: 0.6551 - val_loss: 0.9868 - val_accuracy: 0.7003 - lr: 0.0010\n",
      "Epoch 4/125\n",
      "781/781 [==============================] - 45s 58ms/step - loss: 0.9649 - accuracy: 0.6950 - val_loss: 1.0558 - val_accuracy: 0.6792 - lr: 0.0010\n",
      "Epoch 5/125\n",
      "781/781 [==============================] - 45s 57ms/step - loss: 0.9002 - accuracy: 0.7204 - val_loss: 0.8825 - val_accuracy: 0.7462 - lr: 0.0010\n",
      "Epoch 6/125\n",
      "781/781 [==============================] - 45s 58ms/step - loss: 0.8569 - accuracy: 0.7354 - val_loss: 0.8809 - val_accuracy: 0.7361 - lr: 0.0010\n",
      "Epoch 7/125\n",
      "781/781 [==============================] - 45s 57ms/step - loss: 0.8249 - accuracy: 0.7479 - val_loss: 0.7524 - val_accuracy: 0.7842 - lr: 0.0010\n",
      "Epoch 8/125\n",
      "781/781 [==============================] - 45s 57ms/step - loss: 0.7935 - accuracy: 0.7622 - val_loss: 0.7926 - val_accuracy: 0.7715 - lr: 0.0010\n",
      "Epoch 9/125\n",
      "781/781 [==============================] - 45s 58ms/step - loss: 0.7820 - accuracy: 0.7691 - val_loss: 0.7986 - val_accuracy: 0.7751 - lr: 0.0010\n",
      "Epoch 10/125\n",
      "781/781 [==============================] - 45s 57ms/step - loss: 0.7636 - accuracy: 0.7750 - val_loss: 0.8252 - val_accuracy: 0.7693 - lr: 0.0010\n",
      "Epoch 11/125\n",
      "781/781 [==============================] - 45s 57ms/step - loss: 0.7431 - accuracy: 0.7849 - val_loss: 0.7971 - val_accuracy: 0.7795 - lr: 0.0010\n",
      "Epoch 12/125\n",
      "781/781 [==============================] - 45s 57ms/step - loss: 0.7308 - accuracy: 0.7903 - val_loss: 0.9073 - val_accuracy: 0.7586 - lr: 0.0010\n",
      "Epoch 13/125\n",
      "781/781 [==============================] - 45s 57ms/step - loss: 0.7236 - accuracy: 0.7937 - val_loss: 0.6788 - val_accuracy: 0.8139 - lr: 0.0010\n",
      "Epoch 14/125\n",
      "781/781 [==============================] - 45s 57ms/step - loss: 0.7130 - accuracy: 0.7981 - val_loss: 0.7629 - val_accuracy: 0.7958 - lr: 0.0010\n",
      "Epoch 15/125\n",
      "781/781 [==============================] - 45s 57ms/step - loss: 0.7030 - accuracy: 0.8016 - val_loss: 0.6565 - val_accuracy: 0.8199 - lr: 0.0010\n",
      "Epoch 16/125\n",
      "781/781 [==============================] - 45s 57ms/step - loss: 0.6917 - accuracy: 0.8069 - val_loss: 0.7165 - val_accuracy: 0.8124 - lr: 0.0010\n",
      "Epoch 17/125\n",
      "781/781 [==============================] - 45s 57ms/step - loss: 0.6888 - accuracy: 0.8088 - val_loss: 0.7046 - val_accuracy: 0.8129 - lr: 0.0010\n",
      "Epoch 18/125\n",
      "781/781 [==============================] - 45s 57ms/step - loss: 0.6849 - accuracy: 0.8106 - val_loss: 0.6612 - val_accuracy: 0.8222 - lr: 0.0010\n",
      "Epoch 19/125\n",
      "781/781 [==============================] - 45s 57ms/step - loss: 0.6773 - accuracy: 0.8135 - val_loss: 0.7150 - val_accuracy: 0.8103 - lr: 0.0010\n",
      "Epoch 20/125\n",
      "781/781 [==============================] - 45s 57ms/step - loss: 0.6726 - accuracy: 0.8160 - val_loss: 0.7715 - val_accuracy: 0.7950 - lr: 0.0010\n",
      "Epoch 21/125\n",
      "781/781 [==============================] - 45s 57ms/step - loss: 0.6641 - accuracy: 0.8179 - val_loss: 0.6312 - val_accuracy: 0.8314 - lr: 0.0010\n",
      "Epoch 22/125\n",
      "781/781 [==============================] - 45s 57ms/step - loss: 0.6601 - accuracy: 0.8216 - val_loss: 0.6477 - val_accuracy: 0.8337 - lr: 0.0010\n",
      "Epoch 23/125\n",
      "781/781 [==============================] - 45s 57ms/step - loss: 0.6577 - accuracy: 0.8202 - val_loss: 0.6705 - val_accuracy: 0.8241 - lr: 0.0010\n",
      "Epoch 24/125\n",
      "781/781 [==============================] - 45s 57ms/step - loss: 0.6517 - accuracy: 0.8246 - val_loss: 0.6369 - val_accuracy: 0.8322 - lr: 0.0010\n",
      "Epoch 25/125\n",
      "781/781 [==============================] - 45s 57ms/step - loss: 0.6541 - accuracy: 0.8252 - val_loss: 0.6970 - val_accuracy: 0.8163 - lr: 0.0010\n",
      "Epoch 26/125\n",
      "781/781 [==============================] - 45s 57ms/step - loss: 0.6497 - accuracy: 0.8255 - val_loss: 0.7029 - val_accuracy: 0.8163 - lr: 0.0010\n",
      "Epoch 27/125\n",
      "781/781 [==============================] - 45s 57ms/step - loss: 0.6486 - accuracy: 0.8278 - val_loss: 0.7681 - val_accuracy: 0.8020 - lr: 0.0010\n",
      "Epoch 28/125\n",
      "781/781 [==============================] - 45s 57ms/step - loss: 0.6423 - accuracy: 0.8298 - val_loss: 0.7000 - val_accuracy: 0.8192 - lr: 0.0010\n",
      "Epoch 29/125\n",
      "781/781 [==============================] - 45s 57ms/step - loss: 0.6365 - accuracy: 0.8309 - val_loss: 0.6361 - val_accuracy: 0.8383 - lr: 0.0010\n",
      "Epoch 30/125\n",
      "781/781 [==============================] - 45s 57ms/step - loss: 0.6347 - accuracy: 0.8319 - val_loss: 0.6678 - val_accuracy: 0.8287 - lr: 0.0010\n",
      "Epoch 31/125\n",
      "781/781 [==============================] - 45s 57ms/step - loss: 0.6383 - accuracy: 0.8297 - val_loss: 0.5996 - val_accuracy: 0.8483 - lr: 0.0010\n",
      "Epoch 32/125\n",
      "781/781 [==============================] - 45s 57ms/step - loss: 0.6354 - accuracy: 0.8318 - val_loss: 0.6264 - val_accuracy: 0.8414 - lr: 0.0010\n",
      "Epoch 33/125\n",
      "781/781 [==============================] - 44s 57ms/step - loss: 0.6292 - accuracy: 0.8345 - val_loss: 0.6718 - val_accuracy: 0.8284 - lr: 0.0010\n",
      "Epoch 34/125\n",
      "781/781 [==============================] - 45s 57ms/step - loss: 0.6329 - accuracy: 0.8350 - val_loss: 0.6630 - val_accuracy: 0.8295 - lr: 0.0010\n",
      "Epoch 35/125\n",
      "781/781 [==============================] - 45s 57ms/step - loss: 0.6229 - accuracy: 0.8368 - val_loss: 0.8215 - val_accuracy: 0.7910 - lr: 0.0010\n",
      "Epoch 36/125\n",
      "781/781 [==============================] - 45s 57ms/step - loss: 0.6245 - accuracy: 0.8376 - val_loss: 0.7136 - val_accuracy: 0.8176 - lr: 0.0010\n",
      "Epoch 37/125\n",
      "781/781 [==============================] - 44s 57ms/step - loss: 0.6246 - accuracy: 0.8363 - val_loss: 0.7507 - val_accuracy: 0.8079 - lr: 0.0010\n",
      "Epoch 38/125\n",
      "781/781 [==============================] - 44s 57ms/step - loss: 0.6221 - accuracy: 0.8387 - val_loss: 0.5939 - val_accuracy: 0.8526 - lr: 0.0010\n",
      "Epoch 39/125\n",
      "781/781 [==============================] - 45s 57ms/step - loss: 0.6198 - accuracy: 0.8390 - val_loss: 0.7514 - val_accuracy: 0.8126 - lr: 0.0010\n",
      "Epoch 40/125\n",
      "781/781 [==============================] - 45s 57ms/step - loss: 0.6215 - accuracy: 0.8394 - val_loss: 0.6856 - val_accuracy: 0.8268 - lr: 0.0010\n",
      "Epoch 41/125\n",
      "781/781 [==============================] - 44s 57ms/step - loss: 0.6159 - accuracy: 0.8393 - val_loss: 0.6555 - val_accuracy: 0.8365 - lr: 0.0010\n",
      "Epoch 42/125\n",
      "781/781 [==============================] - 45s 57ms/step - loss: 0.6185 - accuracy: 0.8412 - val_loss: 0.6365 - val_accuracy: 0.8407 - lr: 0.0010\n",
      "Epoch 43/125\n",
      "781/781 [==============================] - 45s 57ms/step - loss: 0.6122 - accuracy: 0.8412 - val_loss: 0.6733 - val_accuracy: 0.8325 - lr: 0.0010\n",
      "Epoch 44/125\n",
      "781/781 [==============================] - 44s 57ms/step - loss: 0.6114 - accuracy: 0.8420 - val_loss: 0.6555 - val_accuracy: 0.8379 - lr: 0.0010\n",
      "Epoch 45/125\n",
      "781/781 [==============================] - 45s 57ms/step - loss: 0.6121 - accuracy: 0.8420 - val_loss: 0.6338 - val_accuracy: 0.8409 - lr: 0.0010\n",
      "Epoch 46/125\n",
      "781/781 [==============================] - 45s 57ms/step - loss: 0.6157 - accuracy: 0.8413 - val_loss: 0.6755 - val_accuracy: 0.8331 - lr: 0.0010\n",
      "Epoch 47/125\n",
      "781/781 [==============================] - 45s 57ms/step - loss: 0.6085 - accuracy: 0.8430 - val_loss: 0.6778 - val_accuracy: 0.8318 - lr: 0.0010\n",
      "Epoch 48/125\n",
      "781/781 [==============================] - 45s 57ms/step - loss: 0.6106 - accuracy: 0.8418 - val_loss: 0.5936 - val_accuracy: 0.8547 - lr: 0.0010\n",
      "Epoch 49/125\n",
      "781/781 [==============================] - 45s 57ms/step - loss: 0.6070 - accuracy: 0.8453 - val_loss: 0.6893 - val_accuracy: 0.8308 - lr: 0.0010\n",
      "Epoch 50/125\n",
      "781/781 [==============================] - 45s 57ms/step - loss: 0.6057 - accuracy: 0.8430 - val_loss: 0.6334 - val_accuracy: 0.8437 - lr: 0.0010\n",
      "Epoch 51/125\n",
      "781/781 [==============================] - 45s 57ms/step - loss: 0.6047 - accuracy: 0.8430 - val_loss: 0.5896 - val_accuracy: 0.8531 - lr: 0.0010\n",
      "Epoch 52/125\n",
      "781/781 [==============================] - 45s 57ms/step - loss: 0.6044 - accuracy: 0.8469 - val_loss: 0.6003 - val_accuracy: 0.8522 - lr: 0.0010\n"
     ]
    },
    {
     "name": "stdout",
     "output_type": "stream",
     "text": [
      "Epoch 53/125\n",
      "781/781 [==============================] - 45s 57ms/step - loss: 0.5992 - accuracy: 0.8452 - val_loss: 0.6444 - val_accuracy: 0.8387 - lr: 0.0010\n",
      "Epoch 54/125\n",
      "781/781 [==============================] - 44s 57ms/step - loss: 0.5995 - accuracy: 0.8458 - val_loss: 0.6288 - val_accuracy: 0.8480 - lr: 0.0010\n",
      "Epoch 55/125\n",
      "781/781 [==============================] - 44s 57ms/step - loss: 0.6030 - accuracy: 0.8450 - val_loss: 0.6056 - val_accuracy: 0.8549 - lr: 0.0010\n",
      "Epoch 56/125\n",
      "781/781 [==============================] - 44s 57ms/step - loss: 0.6018 - accuracy: 0.8449 - val_loss: 0.6374 - val_accuracy: 0.8377 - lr: 0.0010\n",
      "Epoch 57/125\n",
      "781/781 [==============================] - 45s 57ms/step - loss: 0.5955 - accuracy: 0.8475 - val_loss: 0.5927 - val_accuracy: 0.8501 - lr: 0.0010\n",
      "Epoch 58/125\n",
      "781/781 [==============================] - 44s 57ms/step - loss: 0.5984 - accuracy: 0.8479 - val_loss: 0.5711 - val_accuracy: 0.8616 - lr: 0.0010\n",
      "Epoch 59/125\n",
      "781/781 [==============================] - 44s 57ms/step - loss: 0.5973 - accuracy: 0.8480 - val_loss: 0.5839 - val_accuracy: 0.8581 - lr: 0.0010\n",
      "Epoch 60/125\n",
      "781/781 [==============================] - 44s 57ms/step - loss: 0.5962 - accuracy: 0.8467 - val_loss: 0.5680 - val_accuracy: 0.8621 - lr: 0.0010\n",
      "Epoch 61/125\n",
      "781/781 [==============================] - 44s 57ms/step - loss: 0.5972 - accuracy: 0.8463 - val_loss: 0.6770 - val_accuracy: 0.8321 - lr: 0.0010\n",
      "Epoch 62/125\n",
      "781/781 [==============================] - 44s 57ms/step - loss: 0.5899 - accuracy: 0.8478 - val_loss: 0.6316 - val_accuracy: 0.8441 - lr: 0.0010\n",
      "Epoch 63/125\n",
      "781/781 [==============================] - 45s 57ms/step - loss: 0.5909 - accuracy: 0.8494 - val_loss: 0.6484 - val_accuracy: 0.8376 - lr: 0.0010\n",
      "Epoch 64/125\n",
      "781/781 [==============================] - 44s 57ms/step - loss: 0.5909 - accuracy: 0.8488 - val_loss: 0.6275 - val_accuracy: 0.8448 - lr: 0.0010\n",
      "Epoch 65/125\n",
      "781/781 [==============================] - 44s 57ms/step - loss: 0.5889 - accuracy: 0.8496 - val_loss: 0.6029 - val_accuracy: 0.8508 - lr: 0.0010\n",
      "Epoch 66/125\n",
      "781/781 [==============================] - 44s 57ms/step - loss: 0.5921 - accuracy: 0.8491 - val_loss: 0.6611 - val_accuracy: 0.8378 - lr: 0.0010\n",
      "Epoch 67/125\n",
      "781/781 [==============================] - 44s 57ms/step - loss: 0.5924 - accuracy: 0.8501 - val_loss: 0.6560 - val_accuracy: 0.8363 - lr: 0.0010\n",
      "Epoch 68/125\n",
      "781/781 [==============================] - 44s 57ms/step - loss: 0.5883 - accuracy: 0.8526 - val_loss: 0.5967 - val_accuracy: 0.8550 - lr: 0.0010\n",
      "Epoch 69/125\n",
      "781/781 [==============================] - 44s 57ms/step - loss: 0.5858 - accuracy: 0.8522 - val_loss: 0.6103 - val_accuracy: 0.8438 - lr: 0.0010\n",
      "Epoch 70/125\n",
      "781/781 [==============================] - 44s 57ms/step - loss: 0.5890 - accuracy: 0.8503 - val_loss: 0.6059 - val_accuracy: 0.8536 - lr: 0.0010\n",
      "Epoch 71/125\n",
      "781/781 [==============================] - 44s 57ms/step - loss: 0.5837 - accuracy: 0.8512 - val_loss: 0.6470 - val_accuracy: 0.8476 - lr: 0.0010\n",
      "Epoch 72/125\n",
      "781/781 [==============================] - 44s 57ms/step - loss: 0.5847 - accuracy: 0.8524 - val_loss: 0.6564 - val_accuracy: 0.8452 - lr: 0.0010\n",
      "Epoch 73/125\n",
      "781/781 [==============================] - 44s 57ms/step - loss: 0.5840 - accuracy: 0.8534 - val_loss: 0.6281 - val_accuracy: 0.8445 - lr: 0.0010\n",
      "Epoch 74/125\n",
      "781/781 [==============================] - 44s 57ms/step - loss: 0.5845 - accuracy: 0.8534 - val_loss: 0.5831 - val_accuracy: 0.8583 - lr: 0.0010\n",
      "Epoch 75/125\n",
      "781/781 [==============================] - 44s 57ms/step - loss: 0.5859 - accuracy: 0.8520 - val_loss: 0.6126 - val_accuracy: 0.8525 - lr: 0.0010\n",
      "Epoch 76/125\n",
      "781/781 [==============================] - 44s 57ms/step - loss: 0.5801 - accuracy: 0.8533 - val_loss: 0.6485 - val_accuracy: 0.8475 - lr: 0.0010\n",
      "Epoch 77/125\n",
      "781/781 [==============================] - 44s 57ms/step - loss: 0.5408 - accuracy: 0.8660 - val_loss: 0.5994 - val_accuracy: 0.8532 - lr: 5.0000e-04\n",
      "Epoch 78/125\n",
      "781/781 [==============================] - 44s 57ms/step - loss: 0.5288 - accuracy: 0.8701 - val_loss: 0.5313 - val_accuracy: 0.8756 - lr: 5.0000e-04\n",
      "Epoch 79/125\n",
      "781/781 [==============================] - 44s 57ms/step - loss: 0.5121 - accuracy: 0.8734 - val_loss: 0.5754 - val_accuracy: 0.8607 - lr: 5.0000e-04\n",
      "Epoch 80/125\n",
      "781/781 [==============================] - 44s 57ms/step - loss: 0.5108 - accuracy: 0.8730 - val_loss: 0.5666 - val_accuracy: 0.8626 - lr: 5.0000e-04\n",
      "Epoch 81/125\n",
      "781/781 [==============================] - 44s 57ms/step - loss: 0.5038 - accuracy: 0.8748 - val_loss: 0.5578 - val_accuracy: 0.8634 - lr: 5.0000e-04\n",
      "Epoch 82/125\n",
      "781/781 [==============================] - 44s 57ms/step - loss: 0.4979 - accuracy: 0.8763 - val_loss: 0.5588 - val_accuracy: 0.8647 - lr: 5.0000e-04\n",
      "Epoch 83/125\n",
      "781/781 [==============================] - 44s 57ms/step - loss: 0.4924 - accuracy: 0.8774 - val_loss: 0.5410 - val_accuracy: 0.8714 - lr: 5.0000e-04\n",
      "Epoch 84/125\n",
      "781/781 [==============================] - 45s 57ms/step - loss: 0.4911 - accuracy: 0.8751 - val_loss: 0.5322 - val_accuracy: 0.8667 - lr: 5.0000e-04\n",
      "Epoch 85/125\n",
      "781/781 [==============================] - 44s 57ms/step - loss: 0.4862 - accuracy: 0.8773 - val_loss: 0.4961 - val_accuracy: 0.8825 - lr: 5.0000e-04\n",
      "Epoch 86/125\n",
      "781/781 [==============================] - 44s 57ms/step - loss: 0.4847 - accuracy: 0.8763 - val_loss: 0.4875 - val_accuracy: 0.8821 - lr: 5.0000e-04\n",
      "Epoch 87/125\n",
      "781/781 [==============================] - 44s 57ms/step - loss: 0.4822 - accuracy: 0.8781 - val_loss: 0.5245 - val_accuracy: 0.8715 - lr: 5.0000e-04\n",
      "Epoch 88/125\n",
      "781/781 [==============================] - 44s 57ms/step - loss: 0.4822 - accuracy: 0.8778 - val_loss: 0.5752 - val_accuracy: 0.8569 - lr: 5.0000e-04\n",
      "Epoch 89/125\n",
      "781/781 [==============================] - 44s 57ms/step - loss: 0.4744 - accuracy: 0.8786 - val_loss: 0.5601 - val_accuracy: 0.8612 - lr: 5.0000e-04\n",
      "Epoch 90/125\n",
      "781/781 [==============================] - 44s 57ms/step - loss: 0.4791 - accuracy: 0.8779 - val_loss: 0.5695 - val_accuracy: 0.8573 - lr: 5.0000e-04\n",
      "Epoch 91/125\n",
      "781/781 [==============================] - 44s 57ms/step - loss: 0.4793 - accuracy: 0.8770 - val_loss: 0.5597 - val_accuracy: 0.8559 - lr: 5.0000e-04\n",
      "Epoch 92/125\n",
      "781/781 [==============================] - 44s 57ms/step - loss: 0.4744 - accuracy: 0.8775 - val_loss: 0.5271 - val_accuracy: 0.8700 - lr: 5.0000e-04\n",
      "Epoch 93/125\n",
      "781/781 [==============================] - 44s 57ms/step - loss: 0.4716 - accuracy: 0.8777 - val_loss: 0.4902 - val_accuracy: 0.8814 - lr: 5.0000e-04\n",
      "Epoch 94/125\n",
      "781/781 [==============================] - 44s 57ms/step - loss: 0.4706 - accuracy: 0.8786 - val_loss: 0.4937 - val_accuracy: 0.8785 - lr: 5.0000e-04\n",
      "Epoch 95/125\n",
      "781/781 [==============================] - 44s 57ms/step - loss: 0.4710 - accuracy: 0.8797 - val_loss: 0.5366 - val_accuracy: 0.8645 - lr: 5.0000e-04\n",
      "Epoch 96/125\n",
      "781/781 [==============================] - 44s 57ms/step - loss: 0.4705 - accuracy: 0.8781 - val_loss: 0.5283 - val_accuracy: 0.8664 - lr: 5.0000e-04\n",
      "Epoch 97/125\n",
      "781/781 [==============================] - 44s 57ms/step - loss: 0.4699 - accuracy: 0.8797 - val_loss: 0.4819 - val_accuracy: 0.8804 - lr: 5.0000e-04\n",
      "Epoch 98/125\n",
      "781/781 [==============================] - 44s 57ms/step - loss: 0.4676 - accuracy: 0.8797 - val_loss: 0.4685 - val_accuracy: 0.8860 - lr: 5.0000e-04\n",
      "Epoch 99/125\n",
      "781/781 [==============================] - 45s 57ms/step - loss: 0.4648 - accuracy: 0.8789 - val_loss: 0.5087 - val_accuracy: 0.8726 - lr: 5.0000e-04\n",
      "Epoch 100/125\n",
      "781/781 [==============================] - 44s 57ms/step - loss: 0.4586 - accuracy: 0.8818 - val_loss: 0.4762 - val_accuracy: 0.8816 - lr: 5.0000e-04\n",
      "Epoch 101/125\n",
      "781/781 [==============================] - 44s 56ms/step - loss: 0.4601 - accuracy: 0.8794 - val_loss: 0.4902 - val_accuracy: 0.8749 - lr: 5.0000e-04\n",
      "Epoch 102/125\n",
      "781/781 [==============================] - 44s 57ms/step - loss: 0.4624 - accuracy: 0.8793 - val_loss: 0.5100 - val_accuracy: 0.8683 - lr: 5.0000e-04\n",
      "Epoch 103/125\n",
      "781/781 [==============================] - 44s 56ms/step - loss: 0.4594 - accuracy: 0.8817 - val_loss: 0.5287 - val_accuracy: 0.8710 - lr: 5.0000e-04\n"
     ]
    },
    {
     "name": "stdout",
     "output_type": "stream",
     "text": [
      "Epoch 104/125\n",
      "781/781 [==============================] - 44s 56ms/step - loss: 0.4638 - accuracy: 0.8801 - val_loss: 0.5159 - val_accuracy: 0.8679 - lr: 5.0000e-04\n",
      "Epoch 105/125\n",
      "781/781 [==============================] - 44s 56ms/step - loss: 0.4618 - accuracy: 0.8798 - val_loss: 0.5151 - val_accuracy: 0.8754 - lr: 5.0000e-04\n",
      "Epoch 106/125\n",
      "781/781 [==============================] - 44s 56ms/step - loss: 0.4593 - accuracy: 0.8808 - val_loss: 0.4920 - val_accuracy: 0.8739 - lr: 5.0000e-04\n",
      "Epoch 107/125\n",
      "781/781 [==============================] - 44s 56ms/step - loss: 0.4546 - accuracy: 0.8830 - val_loss: 0.5659 - val_accuracy: 0.8557 - lr: 5.0000e-04\n",
      "Epoch 108/125\n",
      "781/781 [==============================] - 44s 56ms/step - loss: 0.4595 - accuracy: 0.8809 - val_loss: 0.5202 - val_accuracy: 0.8693 - lr: 5.0000e-04\n",
      "Epoch 109/125\n",
      "781/781 [==============================] - 44s 56ms/step - loss: 0.4597 - accuracy: 0.8812 - val_loss: 0.4679 - val_accuracy: 0.8854 - lr: 5.0000e-04\n",
      "Epoch 110/125\n",
      "781/781 [==============================] - 44s 56ms/step - loss: 0.4540 - accuracy: 0.8819 - val_loss: 0.5034 - val_accuracy: 0.8739 - lr: 5.0000e-04\n",
      "Epoch 111/125\n",
      "781/781 [==============================] - 44s 56ms/step - loss: 0.4527 - accuracy: 0.8837 - val_loss: 0.5653 - val_accuracy: 0.8590 - lr: 5.0000e-04\n",
      "Epoch 112/125\n",
      "781/781 [==============================] - 44s 56ms/step - loss: 0.4549 - accuracy: 0.8818 - val_loss: 0.5487 - val_accuracy: 0.8623 - lr: 5.0000e-04\n",
      "Epoch 113/125\n",
      "781/781 [==============================] - 44s 56ms/step - loss: 0.4514 - accuracy: 0.8839 - val_loss: 0.5428 - val_accuracy: 0.8634 - lr: 5.0000e-04\n",
      "Epoch 114/125\n",
      "781/781 [==============================] - 44s 56ms/step - loss: 0.4537 - accuracy: 0.8827 - val_loss: 0.5170 - val_accuracy: 0.8711 - lr: 5.0000e-04\n",
      "Epoch 115/125\n",
      "781/781 [==============================] - 44s 56ms/step - loss: 0.4501 - accuracy: 0.8835 - val_loss: 0.5818 - val_accuracy: 0.8511 - lr: 5.0000e-04\n",
      "Epoch 116/125\n",
      "781/781 [==============================] - 44s 56ms/step - loss: 0.4513 - accuracy: 0.8829 - val_loss: 0.5120 - val_accuracy: 0.8700 - lr: 5.0000e-04\n",
      "Epoch 117/125\n",
      "781/781 [==============================] - 44s 57ms/step - loss: 0.4557 - accuracy: 0.8811 - val_loss: 0.5209 - val_accuracy: 0.8702 - lr: 5.0000e-04\n",
      "Epoch 118/125\n",
      "781/781 [==============================] - 44s 56ms/step - loss: 0.4580 - accuracy: 0.8806 - val_loss: 0.5072 - val_accuracy: 0.8725 - lr: 5.0000e-04\n",
      "Epoch 119/125\n",
      "781/781 [==============================] - 44s 57ms/step - loss: 0.4508 - accuracy: 0.8832 - val_loss: 0.5145 - val_accuracy: 0.8735 - lr: 5.0000e-04\n",
      "Epoch 120/125\n",
      "781/781 [==============================] - 44s 56ms/step - loss: 0.4507 - accuracy: 0.8830 - val_loss: 0.5241 - val_accuracy: 0.8679 - lr: 5.0000e-04\n",
      "Epoch 121/125\n",
      "781/781 [==============================] - 44s 56ms/step - loss: 0.4522 - accuracy: 0.8835 - val_loss: 0.5117 - val_accuracy: 0.8751 - lr: 5.0000e-04\n",
      "Epoch 122/125\n",
      "781/781 [==============================] - 44s 56ms/step - loss: 0.4446 - accuracy: 0.8846 - val_loss: 0.4967 - val_accuracy: 0.8772 - lr: 5.0000e-04\n",
      "Epoch 123/125\n",
      "781/781 [==============================] - 44s 56ms/step - loss: 0.4489 - accuracy: 0.8827 - val_loss: 0.5270 - val_accuracy: 0.8647 - lr: 5.0000e-04\n",
      "Epoch 124/125\n",
      "781/781 [==============================] - 44s 56ms/step - loss: 0.4492 - accuracy: 0.8829 - val_loss: 0.4910 - val_accuracy: 0.8789 - lr: 5.0000e-04\n",
      "Epoch 125/125\n",
      "781/781 [==============================] - 44s 56ms/step - loss: 0.4492 - accuracy: 0.8841 - val_loss: 0.5546 - val_accuracy: 0.8598 - lr: 5.0000e-04\n"
     ]
    },
    {
     "data": {
      "text/plain": [
       "<keras.callbacks.History at 0x7fa375024be0>"
      ]
     },
     "execution_count": 11,
     "metadata": {},
     "output_type": "execute_result"
    }
   ],
   "source": [
    "#training\n",
    "batch_size = 64\n",
    "import tensorflow as tf\n",
    "opt_rms = tf.keras.optimizers.RMSprop(lr=0.001,decay=1e-6)\n",
    "model.compile(loss='categorical_crossentropy', optimizer=opt_rms, metrics=['accuracy'])\n",
    "model.fit_generator(datagen.flow(x_train, y_train, batch_size=batch_size),\\\n",
    "                    steps_per_epoch=x_train.shape[0] // batch_size,epochs=125,\\\n",
    "                    verbose=1,validation_data=(x_test,y_test),callbacks=[LearningRateScheduler(lr_schedule)])"
   ]
  },
  {
   "cell_type": "code",
   "execution_count": 12,
   "metadata": {
    "colab": {},
    "colab_type": "code",
    "id": "Uoa2Xze-g0vE"
   },
   "outputs": [
    {
     "name": "stderr",
     "output_type": "stream",
     "text": [
      "2023-10-17 20:57:17.772540: W tensorflow/python/util/util.cc:368] Sets are not currently considered sequences, but this may change in the future, so consider avoiding using them.\n"
     ]
    },
    {
     "name": "stdout",
     "output_type": "stream",
     "text": [
      "INFO:tensorflow:Assets written to: model_trojan.h5py/assets\n"
     ]
    }
   ],
   "source": [
    "model.save('model_trojan.h5py')"
   ]
  },
  {
   "cell_type": "code",
   "execution_count": 13,
   "metadata": {
    "colab": {
     "base_uri": "https://localhost:8080/",
     "height": 70
    },
    "colab_type": "code",
    "id": "j_K4b8LNd0N_",
    "outputId": "7ce10f7a-563f-4da4-fc24-76caaa306362"
   },
   "outputs": [
    {
     "name": "stdout",
     "output_type": "stream",
     "text": [
      "79/79 [==============================] - 2s 19ms/step - loss: 0.5546 - accuracy: 0.8598\n",
      "\n",
      "Test result: 85.980 loss: 0.555\n"
     ]
    }
   ],
   "source": [
    "#testing classification rate of clean inputs\n",
    "scores = model.evaluate(x_test, y_test, batch_size=128, verbose=1)\n",
    "print('\\nTest result: %.3f loss: %.3f' % (scores[1]*100,scores[0]))"
   ]
  },
  {
   "cell_type": "code",
   "execution_count": 15,
   "metadata": {
    "colab": {
     "base_uri": "https://localhost:8080/",
     "height": 125
    },
    "colab_type": "code",
    "id": "dS5CfyOM70G4",
    "outputId": "e10d55a4-cc11-472e-a973-b064f69160f2"
   },
   "outputs": [],
   "source": [
    "#load the train model back, no need to run\n",
    "from keras.models import load_model\n",
    "# model =  load_model('model_trojan.h5py')\n",
    "# model =  load_model('model_CIFAR10_T2_DNN.h5py')\n",
    "model =  load_model('model_trojan.h5py')"
   ]
  },
  {
   "cell_type": "code",
   "execution_count": 16,
   "metadata": {
    "colab": {
     "base_uri": "https://localhost:8080/",
     "height": 34
    },
    "colab_type": "code",
    "id": "Y8mpCXuCM4dc",
    "outputId": "15705030-24d4-4550-8358-77fcac1383d7"
   },
   "outputs": [
    {
     "name": "stdout",
     "output_type": "stream",
     "text": [
      "   100.0\n"
     ]
    }
   ],
   "source": [
    "#test attack success rate using trojaned inputs.\n",
    "#note: do not rerun it, if you want to rerun it, please first reload the data. Because the x_test is trojaned once you run it.\n",
    "for i in range(x_test.shape[0]):\n",
    "    x_test[i]=poison(x_test[i])\n",
    "y_pred=model.predict(x_test)\n",
    "c=0\n",
    "for i in range(x_test.shape[0]):\n",
    "    if np.argmax(y_pred[i]) == 7:\n",
    "        c=c+1\n",
    "print(\"  \",c*100.0/x_test.shape[0])"
   ]
  },
  {
   "cell_type": "code",
   "execution_count": 18,
   "metadata": {
    "colab": {
     "base_uri": "https://localhost:8080/",
     "height": 122
    },
    "colab_type": "code",
    "id": "GbWj1p8KNcHz",
    "outputId": "78d3f82e-de7c-4113-dae3-5511fba1dbac"
   },
   "outputs": [
    {
     "name": "stdout",
     "output_type": "stream",
     "text": [
      "0\n"
     ]
    },
    {
     "name": "stderr",
     "output_type": "stream",
     "text": [
      "/tmp/ipykernel_936017/4013768861.py:19: RuntimeWarning: divide by zero encountered in log2\n",
      "  EntropySum = -np.nansum(py1_add*np.log2(py1_add))\n",
      "/tmp/ipykernel_936017/4013768861.py:19: RuntimeWarning: invalid value encountered in multiply\n",
      "  EntropySum = -np.nansum(py1_add*np.log2(py1_add))\n"
     ]
    },
    {
     "name": "stdout",
     "output_type": "stream",
     "text": [
      "1000\n",
      "0\n",
      "1000\n"
     ]
    }
   ],
   "source": [
    "import math\n",
    "import random\n",
    "import numpy as np\n",
    "import time\n",
    "import scipy\n",
    "  \n",
    "def superimpose(background, overlay):\n",
    "  added_image = cv2.addWeighted(background,1,overlay,1,0)\n",
    "  return (added_image.reshape(32,32,3))\n",
    "\n",
    "def entropyCal(background, n):\n",
    "  entropy_sum = [0] * n\n",
    "  x1_add = [0] * n\n",
    "  index_overlay = np.random.randint(7000,9999, size=n)\n",
    "  for x in range(n):\n",
    "    x1_add[x] = (superimpose(background, x_train[index_overlay[x]]))\n",
    "\n",
    "  py1_add = model.predict(np.array(x1_add))\n",
    "  EntropySum = -np.nansum(py1_add*np.log2(py1_add))\n",
    "  return EntropySum\n",
    "\n",
    "n_test = 2000\n",
    "n_sample = 100\n",
    "entropy_benigh = [0] * n_test\n",
    "entropy_trojan = [0] * n_test\n",
    "# x_poison = [0] * n_test\n",
    "\n",
    "for j in range(n_test):\n",
    "  if 0 == j%1000:\n",
    "    print(j)\n",
    "  x_background = x_test[j+2000] \n",
    "  entropy_benigh[j] = entropyCal(x_background, n_sample)\n",
    "\n",
    "for j in range(n_test):\n",
    "  if 0 == j%1000:\n",
    "    print(j)\n",
    "  x_poison = poison(x_test[j+5000])\n",
    "  entropy_trojan[j] = entropyCal(x_poison, n_sample)\n",
    "\n",
    "entropy_benigh = [x / n_sample for x in entropy_benigh] # get entropy for 2000 clean inputs\n",
    "entropy_trojan = [x / n_sample for x in entropy_trojan] # get entropy for 2000 trojaned inputs"
   ]
  },
  {
   "cell_type": "code",
   "execution_count": 19,
   "metadata": {
    "colab": {
     "base_uri": "https://localhost:8080/",
     "height": 295
    },
    "colab_type": "code",
    "id": "FWVHBcX-Py1p",
    "outputId": "09bacfc5-1cd1-4895-f102-63adfd4bea2d"
   },
   "outputs": [
    {
     "data": {
      "image/png": "[encoded data removed]",
      "text/plain": [
       "<Figure size 432x288 with 1 Axes>"
      ]
     },
     "metadata": {
      "needs_background": "light"
     },
     "output_type": "display_data"
    }
   ],
   "source": [
    "bins = 30\n",
    "plt.hist(entropy_benigh, bins, weights=np.ones(len(entropy_benigh)) / len(entropy_benigh), alpha=1, label='without trojan')\n",
    "plt.hist(entropy_trojan, bins, weights=np.ones(len(entropy_trojan)) / len(entropy_trojan), alpha=1, label='with trojan')\n",
    "plt.legend(loc='upper right', fontsize = 20)\n",
    "plt.ylabel('Probability (%)', fontsize = 20)\n",
    "plt.title('normalized entropy', fontsize = 20)\n",
    "plt.tick_params(labelsize=20)\n",
    "\n",
    "fig1 = plt.gcf()\n",
    "plt.show()\n",
    "# fig1.savefig('EntropyDNNDist_T2.pdf')# save the fig as pdf file\n",
    "fig1.savefig('EntropyDNNDist_T3.svg')# save the fig as pdf file"
   ]
  },
  {
   "cell_type": "code",
   "execution_count": 23,
   "metadata": {
    "colab": {
     "base_uri": "https://localhost:8080/",
     "height": 295
    },
    "colab_type": "code",
    "id": "RsmCv0rECzKH",
    "outputId": "4ef9fb2b-22a4-4e46-f611-eace34f2b9ea"
   },
   "outputs": [
    {
     "data": {
      "image/png": "[encoded data removed]",
      "text/plain": [
       "<Figure size 432x288 with 1 Axes>"
      ]
     },
     "metadata": {
      "needs_background": "light"
     },
     "output_type": "display_data"
    }
   ],
   "source": [
    "# As trojaned entropy is sometimes too small to be visible. \n",
    "# This is to visulize the entropy distribution of the trojaned inputs under such case.\n",
    "bins = np.linspace(0, max(entropy_trojan), 30)\n",
    "plt.hist(entropy_trojan, bins, weights=np.ones(len(entropy_trojan)) / len(entropy_trojan), alpha=1, label='with trojan')\n",
    "plt.legend(loc='upper right', fontsize = 20)\n",
    "plt.ylabel('Probability (%)', fontsize = 20)\n",
    "plt.title('normalized entropy', fontsize = 20)\n",
    "plt.tick_params(labelsize=20)\n",
    "fig1 = plt.gcf()\n",
    "plt.show()"
   ]
  },
  {
   "cell_type": "code",
   "execution_count": 21,
   "metadata": {
    "colab": {
     "base_uri": "https://localhost:8080/",
     "height": 70
    },
    "colab_type": "code",
    "id": "5HlVwbXPRrJB",
    "outputId": "642adeb0-b9cc-4271-a23d-54a1c0820d5b"
   },
   "outputs": [
    {
     "name": "stdout",
     "output_type": "stream",
     "text": [
      "2.263175647471065e-09 8.343067584110656e-08\n",
      "-1.9182559972527772e-07\n",
      "100.0\n"
     ]
    }
   ],
   "source": [
    "import scipy\n",
    "import scipy.stats\n",
    "(mu, sigma) = scipy.stats.norm.fit(entropy_benigh)\n",
    "print(mu, sigma)\n",
    "threshold = scipy.stats.norm.ppf(0.01, loc = mu, scale =  sigma) #use a preset FRR of 0.01. This can be \n",
    "print(threshold)\n",
    "FAR = sum(i > threshold for i in entropy_trojan)\n",
    "print(FAR/2000*100) #reproduce results in Table 3 of our paper"
   ]
  },
  {
   "cell_type": "code",
   "execution_count": 25,
   "metadata": {
    "colab": {
     "base_uri": "https://localhost:8080/",
     "height": 52
    },
    "colab_type": "code",
    "id": "HPV8oNScR6lA",
    "outputId": "49078e3d-a49c-4d44-9c2d-25e90433c073"
   },
   "outputs": [
    {
     "name": "stdout",
     "output_type": "stream",
     "text": [
      "4.535555230136346e-17\n",
      "8.531760445703888e-27\n"
     ]
    }
   ],
   "source": [
    "min_benign_entropy = min(entropy_benigh)\n",
    "max_trojan_entropy = max(entropy_trojan)\n",
    "print(min_benign_entropy)# check min entropy of clean inputs\n",
    "print(max_trojan_entropy)# check max entropy of trojaned inputs\n"
   ]
  },
  {
   "cell_type": "code",
   "execution_count": 0,
   "metadata": {
    "colab": {},
    "colab_type": "code",
    "id": "sKnwcC3bEXWv"
   },
   "outputs": [],
   "source": []
  }
 ],
 "metadata": {
  "accelerator": "GPU",
  "colab": {
   "collapsed_sections": [],
   "include_colab_link": true,
   "name": "STRIP_CIFAR10DeepArchit_Tb.ipynb",
   "provenance": [],
   "version": "0.3.2"
  },
  "kernelspec": {
   "display_name": "Python 3",
   "language": "python",
   "name": "python3"
  },
  "language_info": {
   "codemirror_mode": {
    "name": "ipython",
    "version": 3
   },
   "file_extension": ".py",
   "mimetype": "text/x-python",
   "name": "python",
   "nbconvert_exporter": "python",
   "pygments_lexer": "ipython3",
   "version": "3.8.10"
  }
 },
 "nbformat": 4,
 "nbformat_minor": 1
}
